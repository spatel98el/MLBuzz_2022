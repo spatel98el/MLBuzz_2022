{
 "cells": [
  {
   "cell_type": "code",
   "execution_count": 3,
   "metadata": {
    "id": "Yz1Gf_L9GPt9"
   },
   "outputs": [],
   "source": [
    "#create a CSV\n",
    "import os\n",
    "import pandas as pd"
   ]
  },
  {
   "cell_type": "code",
   "execution_count": 4,
   "metadata": {
    "id": "zrDNWUIDGV3S"
   },
   "outputs": [],
   "source": [
    "MAX_SEQ_THR = 512"
   ]
  },
  {
   "cell_type": "code",
   "execution_count": 5,
   "metadata": {
    "id": "Krs5S8APGX7C"
   },
   "outputs": [
    {
     "name": "stdout",
     "output_type": "stream",
     "text": [
      "b'C:\\\\Development\\\\Code\\\\JupyterProjects\\\\' b'MLBuzz22\\\\Crime Dataset\\\\train\\\\' b'MLBuzz22\\\\Crime Dataset\\\\test\\\\'\n"
     ]
    }
   ],
   "source": [
    "rootpath = os.fsencode('C:\\Development\\Code\\JupyterProjects\\\\')\n",
    "train_datapath = os.fsencode('MLBuzz22\\Crime Dataset\\\\train\\\\')\n",
    "test_datapath = os.fsencode('MLBuzz22\\Crime Dataset\\\\test\\\\')\n",
    "print(rootpath, train_datapath, test_datapath)"
   ]
  },
  {
   "cell_type": "code",
   "execution_count": 6,
   "metadata": {
    "id": "S-PDaXaTGfYH"
   },
   "outputs": [],
   "source": [
    "def prepare_train_data(rootpath, datapath):\n",
    "    count = 0\n",
    "    datalist = []\n",
    "    max_samples_per_category = []\n",
    "    above_thr_samples = []\n",
    "    files = os.listdir(rootpath + datapath)\n",
    "    for category in files:\n",
    "\n",
    "        categorypath = rootpath + datapath + category\n",
    "        samples = os.listdir(categorypath)\n",
    "        max_of_category = 0\n",
    "        min_of_category = 100000\n",
    "\n",
    "        for sample in samples:\n",
    "            samplepath = os.fsencode(os.fsdecode(categorypath) + '\\\\' + os.fsdecode(sample))\n",
    "            #print(count, samplepath, category)\n",
    "            entry = [os.fsdecode(samplepath), os.fsdecode(category)]\n",
    "            datalist.append(entry)\n",
    "            count = count + 1\n",
    "\n",
    "            # find out max no samples per catecory\n",
    "            num_images = len(os.listdir(samplepath))\n",
    "            if(num_images > max_of_category):\n",
    "                max_of_category = num_images\n",
    "                max_sample_path = samplepath\n",
    "                \n",
    "            if(num_images < min_of_category):\n",
    "                min_of_category = num_images\n",
    "                min_sample_path = samplepath\n",
    "\n",
    "            if(num_images >= MAX_SEQ_THR):\n",
    "                above_thr_samples.append([os.fsdecode(samplepath), num_images, os.fsdecode(category)])\n",
    "                \n",
    "        max_samples_per_category.append([os.fsdecode(category), os.fsdecode(max_sample_path), max_of_category, os.fsdecode(min_sample_path), min_of_category])\n",
    "\n",
    "    traindata_df = pd.DataFrame(datalist, columns=['path', 'category'])\n",
    "    category_samples_df = pd.DataFrame(max_samples_per_category, columns=['category', 'max sample path', 'max_counos.fsdecode(max_sample_path), t', 'min sample path','min_count'])\n",
    "    above_thr_samples_df = pd.DataFrame(above_thr_samples, columns=['path', 'no of samples', 'category'])\n",
    "    return traindata_df, category_samples_df, above_thr_samples_df"
   ]
  },
  {
   "cell_type": "code",
   "execution_count": 7,
   "metadata": {
    "id": "GhaoqN51GnNE"
   },
   "outputs": [],
   "source": [
    "train_df, category_samples_df, above_thr_samples_df = prepare_train_data(rootpath, train_datapath)"
   ]
  },
  {
   "cell_type": "code",
   "execution_count": 8,
   "metadata": {},
   "outputs": [
    {
     "data": {
      "text/html": [
       "<div>\n",
       "<style scoped>\n",
       "    .dataframe tbody tr th:only-of-type {\n",
       "        vertical-align: middle;\n",
       "    }\n",
       "\n",
       "    .dataframe tbody tr th {\n",
       "        vertical-align: top;\n",
       "    }\n",
       "\n",
       "    .dataframe thead th {\n",
       "        text-align: right;\n",
       "    }\n",
       "</style>\n",
       "<table border=\"1\" class=\"dataframe\">\n",
       "  <thead>\n",
       "    <tr style=\"text-align: right;\">\n",
       "      <th></th>\n",
       "      <th>path</th>\n",
       "      <th>category</th>\n",
       "    </tr>\n",
       "  </thead>\n",
       "  <tbody>\n",
       "    <tr>\n",
       "      <th>0</th>\n",
       "      <td>C:\\Development\\Code\\JupyterProjects\\MLBuzz22\\C...</td>\n",
       "      <td>arrest</td>\n",
       "    </tr>\n",
       "    <tr>\n",
       "      <th>1</th>\n",
       "      <td>C:\\Development\\Code\\JupyterProjects\\MLBuzz22\\C...</td>\n",
       "      <td>arrest</td>\n",
       "    </tr>\n",
       "    <tr>\n",
       "      <th>2</th>\n",
       "      <td>C:\\Development\\Code\\JupyterProjects\\MLBuzz22\\C...</td>\n",
       "      <td>arrest</td>\n",
       "    </tr>\n",
       "    <tr>\n",
       "      <th>3</th>\n",
       "      <td>C:\\Development\\Code\\JupyterProjects\\MLBuzz22\\C...</td>\n",
       "      <td>arrest</td>\n",
       "    </tr>\n",
       "    <tr>\n",
       "      <th>4</th>\n",
       "      <td>C:\\Development\\Code\\JupyterProjects\\MLBuzz22\\C...</td>\n",
       "      <td>arrest</td>\n",
       "    </tr>\n",
       "    <tr>\n",
       "      <th>5</th>\n",
       "      <td>C:\\Development\\Code\\JupyterProjects\\MLBuzz22\\C...</td>\n",
       "      <td>arrest</td>\n",
       "    </tr>\n",
       "    <tr>\n",
       "      <th>6</th>\n",
       "      <td>C:\\Development\\Code\\JupyterProjects\\MLBuzz22\\C...</td>\n",
       "      <td>arrest</td>\n",
       "    </tr>\n",
       "    <tr>\n",
       "      <th>7</th>\n",
       "      <td>C:\\Development\\Code\\JupyterProjects\\MLBuzz22\\C...</td>\n",
       "      <td>arrest</td>\n",
       "    </tr>\n",
       "    <tr>\n",
       "      <th>8</th>\n",
       "      <td>C:\\Development\\Code\\JupyterProjects\\MLBuzz22\\C...</td>\n",
       "      <td>arrest</td>\n",
       "    </tr>\n",
       "    <tr>\n",
       "      <th>9</th>\n",
       "      <td>C:\\Development\\Code\\JupyterProjects\\MLBuzz22\\C...</td>\n",
       "      <td>arrest</td>\n",
       "    </tr>\n",
       "  </tbody>\n",
       "</table>\n",
       "</div>"
      ],
      "text/plain": [
       "                                                path category\n",
       "0  C:\\Development\\Code\\JupyterProjects\\MLBuzz22\\C...   arrest\n",
       "1  C:\\Development\\Code\\JupyterProjects\\MLBuzz22\\C...   arrest\n",
       "2  C:\\Development\\Code\\JupyterProjects\\MLBuzz22\\C...   arrest\n",
       "3  C:\\Development\\Code\\JupyterProjects\\MLBuzz22\\C...   arrest\n",
       "4  C:\\Development\\Code\\JupyterProjects\\MLBuzz22\\C...   arrest\n",
       "5  C:\\Development\\Code\\JupyterProjects\\MLBuzz22\\C...   arrest\n",
       "6  C:\\Development\\Code\\JupyterProjects\\MLBuzz22\\C...   arrest\n",
       "7  C:\\Development\\Code\\JupyterProjects\\MLBuzz22\\C...   arrest\n",
       "8  C:\\Development\\Code\\JupyterProjects\\MLBuzz22\\C...   arrest\n",
       "9  C:\\Development\\Code\\JupyterProjects\\MLBuzz22\\C...   arrest"
      ]
     },
     "execution_count": 8,
     "metadata": {},
     "output_type": "execute_result"
    }
   ],
   "source": [
    "train_df.head(10)"
   ]
  },
  {
   "cell_type": "code",
   "execution_count": 17,
   "metadata": {
    "id": "MlO0GaQYGqAd"
   },
   "outputs": [],
   "source": [
    "train_df.to_csv('train.csv')\n",
    "category_samples_df.to_csv('samples_min_max.csv')\n",
    "above_thr_samples_df.to_csv('above_thr_samples.csv')"
   ]
  },
  {
   "cell_type": "code",
   "execution_count": 18,
   "metadata": {
    "id": "YAMTliZZGuaJ"
   },
   "outputs": [],
   "source": [
    "def prepare_test_data(rootpath, datapath):\n",
    "    count = 0\n",
    "    datalist = []\n",
    "    max_sample= 0\n",
    "    max_sample_path = ''\n",
    "       \n",
    "    \n",
    "    testpath = rootpath + datapath\n",
    "    samples = os.listdir(testpath)\n",
    "    for sample in samples:\n",
    "        samplepath = os.fsencode(os.fsdecode(testpath) + '\\\\' + os.fsdecode(sample))\n",
    "        #print(count, samplepath, category)\n",
    "        entry = [os.fsdecode(samplepath)]\n",
    "        datalist.append(entry)\n",
    "        count = count + 1\n",
    "\n",
    "        # find out max no samples per catecory\n",
    "        num_images = len(os.listdir(samplepath))\n",
    "        if(num_images > max_sample):\n",
    "            max_sample = num_images\n",
    "            max_sample_path = samplepath \n",
    "\n",
    "    testdata_df = pd.DataFrame(datalist, columns=['path'])\n",
    "    return testdata_df"
   ]
  },
  {
   "cell_type": "code",
   "execution_count": 20,
   "metadata": {
    "id": "93V1GF4nGyt7"
   },
   "outputs": [],
   "source": [
    "test_df = prepare_test_data(rootpath, test_datapath)\n",
    "test_df.to_csv('test.csv')"
   ]
  },
  {
   "cell_type": "code",
   "execution_count": 15,
   "metadata": {},
   "outputs": [],
   "source": [
    "def sample_selected(df, count):\n",
    "    tl = []\n",
    "    for category in df['category'].unique():\n",
    "        temp = df[df['category'] == category]\n",
    "        # temp.drop(columns='Unnamed: 0', inplace=True)\n",
    "        tl.append(temp)\n",
    "\n",
    "    select_df = pd.DataFrame(columns=['path', 'category'])\n",
    "    #create selection \n",
    "    idx = 0\n",
    "    for i in range(count):\n",
    "        for df in tl:\n",
    "            s = df.sample()\n",
    "            select_df.loc[idx] = [s.values[0][0], s.values[0][1]]\n",
    "            idx = idx + 1\n",
    "    return select_df"
   ]
  },
  {
   "cell_type": "code",
   "execution_count": 16,
   "metadata": {},
   "outputs": [
    {
     "data": {
      "text/html": [
       "<div>\n",
       "<style scoped>\n",
       "    .dataframe tbody tr th:only-of-type {\n",
       "        vertical-align: middle;\n",
       "    }\n",
       "\n",
       "    .dataframe tbody tr th {\n",
       "        vertical-align: top;\n",
       "    }\n",
       "\n",
       "    .dataframe thead th {\n",
       "        text-align: right;\n",
       "    }\n",
       "</style>\n",
       "<table border=\"1\" class=\"dataframe\">\n",
       "  <thead>\n",
       "    <tr style=\"text-align: right;\">\n",
       "      <th></th>\n",
       "      <th>path</th>\n",
       "      <th>category</th>\n",
       "    </tr>\n",
       "  </thead>\n",
       "  <tbody>\n",
       "    <tr>\n",
       "      <th>0</th>\n",
       "      <td>C:\\Development\\Code\\JupyterProjects\\MLBuzz22\\C...</td>\n",
       "      <td>arrest</td>\n",
       "    </tr>\n",
       "    <tr>\n",
       "      <th>1</th>\n",
       "      <td>C:\\Development\\Code\\JupyterProjects\\MLBuzz22\\C...</td>\n",
       "      <td>arrest</td>\n",
       "    </tr>\n",
       "    <tr>\n",
       "      <th>2</th>\n",
       "      <td>C:\\Development\\Code\\JupyterProjects\\MLBuzz22\\C...</td>\n",
       "      <td>arrest</td>\n",
       "    </tr>\n",
       "    <tr>\n",
       "      <th>3</th>\n",
       "      <td>C:\\Development\\Code\\JupyterProjects\\MLBuzz22\\C...</td>\n",
       "      <td>arrest</td>\n",
       "    </tr>\n",
       "    <tr>\n",
       "      <th>4</th>\n",
       "      <td>C:\\Development\\Code\\JupyterProjects\\MLBuzz22\\C...</td>\n",
       "      <td>arrest</td>\n",
       "    </tr>\n",
       "    <tr>\n",
       "      <th>5</th>\n",
       "      <td>C:\\Development\\Code\\JupyterProjects\\MLBuzz22\\C...</td>\n",
       "      <td>arrest</td>\n",
       "    </tr>\n",
       "    <tr>\n",
       "      <th>6</th>\n",
       "      <td>C:\\Development\\Code\\JupyterProjects\\MLBuzz22\\C...</td>\n",
       "      <td>arrest</td>\n",
       "    </tr>\n",
       "    <tr>\n",
       "      <th>7</th>\n",
       "      <td>C:\\Development\\Code\\JupyterProjects\\MLBuzz22\\C...</td>\n",
       "      <td>arrest</td>\n",
       "    </tr>\n",
       "    <tr>\n",
       "      <th>8</th>\n",
       "      <td>C:\\Development\\Code\\JupyterProjects\\MLBuzz22\\C...</td>\n",
       "      <td>arrest</td>\n",
       "    </tr>\n",
       "    <tr>\n",
       "      <th>9</th>\n",
       "      <td>C:\\Development\\Code\\JupyterProjects\\MLBuzz22\\C...</td>\n",
       "      <td>arrest</td>\n",
       "    </tr>\n",
       "  </tbody>\n",
       "</table>\n",
       "</div>"
      ],
      "text/plain": [
       "                                                path category\n",
       "0  C:\\Development\\Code\\JupyterProjects\\MLBuzz22\\C...   arrest\n",
       "1  C:\\Development\\Code\\JupyterProjects\\MLBuzz22\\C...   arrest\n",
       "2  C:\\Development\\Code\\JupyterProjects\\MLBuzz22\\C...   arrest\n",
       "3  C:\\Development\\Code\\JupyterProjects\\MLBuzz22\\C...   arrest\n",
       "4  C:\\Development\\Code\\JupyterProjects\\MLBuzz22\\C...   arrest\n",
       "5  C:\\Development\\Code\\JupyterProjects\\MLBuzz22\\C...   arrest\n",
       "6  C:\\Development\\Code\\JupyterProjects\\MLBuzz22\\C...   arrest\n",
       "7  C:\\Development\\Code\\JupyterProjects\\MLBuzz22\\C...   arrest\n",
       "8  C:\\Development\\Code\\JupyterProjects\\MLBuzz22\\C...   arrest\n",
       "9  C:\\Development\\Code\\JupyterProjects\\MLBuzz22\\C...   arrest"
      ]
     },
     "execution_count": 16,
     "metadata": {},
     "output_type": "execute_result"
    }
   ],
   "source": [
    "train_df.head(10)"
   ]
  },
  {
   "cell_type": "code",
   "execution_count": 17,
   "metadata": {},
   "outputs": [],
   "source": [
    "sample_df = sample_selected(train_df, 50)"
   ]
  },
  {
   "cell_type": "code",
   "execution_count": 18,
   "metadata": {},
   "outputs": [
    {
     "data": {
      "text/html": [
       "<div>\n",
       "<style scoped>\n",
       "    .dataframe tbody tr th:only-of-type {\n",
       "        vertical-align: middle;\n",
       "    }\n",
       "\n",
       "    .dataframe tbody tr th {\n",
       "        vertical-align: top;\n",
       "    }\n",
       "\n",
       "    .dataframe thead th {\n",
       "        text-align: right;\n",
       "    }\n",
       "</style>\n",
       "<table border=\"1\" class=\"dataframe\">\n",
       "  <thead>\n",
       "    <tr style=\"text-align: right;\">\n",
       "      <th></th>\n",
       "      <th>path</th>\n",
       "      <th>category</th>\n",
       "    </tr>\n",
       "  </thead>\n",
       "  <tbody>\n",
       "    <tr>\n",
       "      <th>0</th>\n",
       "      <td>C:\\Development\\Code\\JupyterProjects\\MLBuzz22\\C...</td>\n",
       "      <td>arrest</td>\n",
       "    </tr>\n",
       "    <tr>\n",
       "      <th>1</th>\n",
       "      <td>C:\\Development\\Code\\JupyterProjects\\MLBuzz22\\C...</td>\n",
       "      <td>attack</td>\n",
       "    </tr>\n",
       "    <tr>\n",
       "      <th>2</th>\n",
       "      <td>C:\\Development\\Code\\JupyterProjects\\MLBuzz22\\C...</td>\n",
       "      <td>blast</td>\n",
       "    </tr>\n",
       "    <tr>\n",
       "      <th>3</th>\n",
       "      <td>C:\\Development\\Code\\JupyterProjects\\MLBuzz22\\C...</td>\n",
       "      <td>deliberate damage</td>\n",
       "    </tr>\n",
       "    <tr>\n",
       "      <th>4</th>\n",
       "      <td>C:\\Development\\Code\\JupyterProjects\\MLBuzz22\\C...</td>\n",
       "      <td>firing</td>\n",
       "    </tr>\n",
       "    <tr>\n",
       "      <th>5</th>\n",
       "      <td>C:\\Development\\Code\\JupyterProjects\\MLBuzz22\\C...</td>\n",
       "      <td>road accident</td>\n",
       "    </tr>\n",
       "    <tr>\n",
       "      <th>6</th>\n",
       "      <td>C:\\Development\\Code\\JupyterProjects\\MLBuzz22\\C...</td>\n",
       "      <td>theft</td>\n",
       "    </tr>\n",
       "    <tr>\n",
       "      <th>7</th>\n",
       "      <td>C:\\Development\\Code\\JupyterProjects\\MLBuzz22\\C...</td>\n",
       "      <td>arrest</td>\n",
       "    </tr>\n",
       "    <tr>\n",
       "      <th>8</th>\n",
       "      <td>C:\\Development\\Code\\JupyterProjects\\MLBuzz22\\C...</td>\n",
       "      <td>attack</td>\n",
       "    </tr>\n",
       "    <tr>\n",
       "      <th>9</th>\n",
       "      <td>C:\\Development\\Code\\JupyterProjects\\MLBuzz22\\C...</td>\n",
       "      <td>blast</td>\n",
       "    </tr>\n",
       "    <tr>\n",
       "      <th>10</th>\n",
       "      <td>C:\\Development\\Code\\JupyterProjects\\MLBuzz22\\C...</td>\n",
       "      <td>deliberate damage</td>\n",
       "    </tr>\n",
       "    <tr>\n",
       "      <th>11</th>\n",
       "      <td>C:\\Development\\Code\\JupyterProjects\\MLBuzz22\\C...</td>\n",
       "      <td>firing</td>\n",
       "    </tr>\n",
       "    <tr>\n",
       "      <th>12</th>\n",
       "      <td>C:\\Development\\Code\\JupyterProjects\\MLBuzz22\\C...</td>\n",
       "      <td>road accident</td>\n",
       "    </tr>\n",
       "    <tr>\n",
       "      <th>13</th>\n",
       "      <td>C:\\Development\\Code\\JupyterProjects\\MLBuzz22\\C...</td>\n",
       "      <td>theft</td>\n",
       "    </tr>\n",
       "  </tbody>\n",
       "</table>\n",
       "</div>"
      ],
      "text/plain": [
       "                                                 path           category\n",
       "0   C:\\Development\\Code\\JupyterProjects\\MLBuzz22\\C...             arrest\n",
       "1   C:\\Development\\Code\\JupyterProjects\\MLBuzz22\\C...             attack\n",
       "2   C:\\Development\\Code\\JupyterProjects\\MLBuzz22\\C...              blast\n",
       "3   C:\\Development\\Code\\JupyterProjects\\MLBuzz22\\C...  deliberate damage\n",
       "4   C:\\Development\\Code\\JupyterProjects\\MLBuzz22\\C...             firing\n",
       "5   C:\\Development\\Code\\JupyterProjects\\MLBuzz22\\C...      road accident\n",
       "6   C:\\Development\\Code\\JupyterProjects\\MLBuzz22\\C...              theft\n",
       "7   C:\\Development\\Code\\JupyterProjects\\MLBuzz22\\C...             arrest\n",
       "8   C:\\Development\\Code\\JupyterProjects\\MLBuzz22\\C...             attack\n",
       "9   C:\\Development\\Code\\JupyterProjects\\MLBuzz22\\C...              blast\n",
       "10  C:\\Development\\Code\\JupyterProjects\\MLBuzz22\\C...  deliberate damage\n",
       "11  C:\\Development\\Code\\JupyterProjects\\MLBuzz22\\C...             firing\n",
       "12  C:\\Development\\Code\\JupyterProjects\\MLBuzz22\\C...      road accident\n",
       "13  C:\\Development\\Code\\JupyterProjects\\MLBuzz22\\C...              theft"
      ]
     },
     "execution_count": 18,
     "metadata": {},
     "output_type": "execute_result"
    }
   ],
   "source": [
    "sample_df.head(14)"
   ]
  },
  {
   "cell_type": "code",
   "execution_count": 19,
   "metadata": {},
   "outputs": [],
   "source": [
    "sample_df.to_csv('sampled_50.csv')"
   ]
  },
  {
   "cell_type": "code",
   "execution_count": null,
   "metadata": {},
   "outputs": [],
   "source": []
  }
 ],
 "metadata": {
  "colab": {
   "authorship_tag": "ABX9TyMw+YUdN1d0/YAKVOCKBa1b",
   "provenance": [
    {
     "file_id": "1kW44GvqnEbspc0tnilGNBdSzoQ42dk_Z",
     "timestamp": 1668613383710
    }
   ]
  },
  "kernelspec": {
   "display_name": "Python 3 (ipykernel)",
   "language": "python",
   "name": "python3"
  },
  "language_info": {
   "codemirror_mode": {
    "name": "ipython",
    "version": 3
   },
   "file_extension": ".py",
   "mimetype": "text/x-python",
   "name": "python",
   "nbconvert_exporter": "python",
   "pygments_lexer": "ipython3",
   "version": "3.9.13"
  }
 },
 "nbformat": 4,
 "nbformat_minor": 4
}
