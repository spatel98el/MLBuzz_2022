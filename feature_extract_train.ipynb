{
 "cells": [
  {
   "cell_type": "code",
   "execution_count": 1,
   "id": "598edfbf-02ae-4fc1-9a76-979133810b19",
   "metadata": {},
   "outputs": [],
   "source": [
    "import tensorflow as tf\n",
    "import pandas as pd\n",
    "import os\n",
    "import numpy as np\n",
    "from natsort import natsorted"
   ]
  },
  {
   "cell_type": "code",
   "execution_count": 2,
   "id": "59436f00-cb0f-4bf2-9613-75de98d78f1b",
   "metadata": {},
   "outputs": [],
   "source": [
    "IMG_X_SIZE = 320\n",
    "IMG_Y_SIZE = 240\n",
    "BATCH = 64\n",
    "EPOCHS = 25\n",
    "\n",
    "MAX_SEQ_LENGTH = 512\n",
    "NUM_FEATURES = 2048"
   ]
  },
  {
   "cell_type": "code",
   "execution_count": 3,
   "id": "9f6c7f37-f810-425c-b2c2-cbc2b89c477a",
   "metadata": {},
   "outputs": [
    {
     "data": {
      "text/html": [
       "<div>\n",
       "<style scoped>\n",
       "    .dataframe tbody tr th:only-of-type {\n",
       "        vertical-align: middle;\n",
       "    }\n",
       "\n",
       "    .dataframe tbody tr th {\n",
       "        vertical-align: top;\n",
       "    }\n",
       "\n",
       "    .dataframe thead th {\n",
       "        text-align: right;\n",
       "    }\n",
       "</style>\n",
       "<table border=\"1\" class=\"dataframe\">\n",
       "  <thead>\n",
       "    <tr style=\"text-align: right;\">\n",
       "      <th></th>\n",
       "      <th>Unnamed: 0</th>\n",
       "      <th>path</th>\n",
       "      <th>category</th>\n",
       "    </tr>\n",
       "  </thead>\n",
       "  <tbody>\n",
       "    <tr>\n",
       "      <th>0</th>\n",
       "      <td>0</td>\n",
       "      <td>C:\\Development\\Code\\JupyterProjects\\MLBuzz22\\C...</td>\n",
       "      <td>arrest</td>\n",
       "    </tr>\n",
       "    <tr>\n",
       "      <th>1</th>\n",
       "      <td>1</td>\n",
       "      <td>C:\\Development\\Code\\JupyterProjects\\MLBuzz22\\C...</td>\n",
       "      <td>attack</td>\n",
       "    </tr>\n",
       "    <tr>\n",
       "      <th>2</th>\n",
       "      <td>2</td>\n",
       "      <td>C:\\Development\\Code\\JupyterProjects\\MLBuzz22\\C...</td>\n",
       "      <td>blast</td>\n",
       "    </tr>\n",
       "    <tr>\n",
       "      <th>3</th>\n",
       "      <td>3</td>\n",
       "      <td>C:\\Development\\Code\\JupyterProjects\\MLBuzz22\\C...</td>\n",
       "      <td>deliberate damage</td>\n",
       "    </tr>\n",
       "    <tr>\n",
       "      <th>4</th>\n",
       "      <td>4</td>\n",
       "      <td>C:\\Development\\Code\\JupyterProjects\\MLBuzz22\\C...</td>\n",
       "      <td>firing</td>\n",
       "    </tr>\n",
       "    <tr>\n",
       "      <th>5</th>\n",
       "      <td>5</td>\n",
       "      <td>C:\\Development\\Code\\JupyterProjects\\MLBuzz22\\C...</td>\n",
       "      <td>road accident</td>\n",
       "    </tr>\n",
       "    <tr>\n",
       "      <th>6</th>\n",
       "      <td>6</td>\n",
       "      <td>C:\\Development\\Code\\JupyterProjects\\MLBuzz22\\C...</td>\n",
       "      <td>theft</td>\n",
       "    </tr>\n",
       "    <tr>\n",
       "      <th>7</th>\n",
       "      <td>7</td>\n",
       "      <td>C:\\Development\\Code\\JupyterProjects\\MLBuzz22\\C...</td>\n",
       "      <td>arrest</td>\n",
       "    </tr>\n",
       "    <tr>\n",
       "      <th>8</th>\n",
       "      <td>8</td>\n",
       "      <td>C:\\Development\\Code\\JupyterProjects\\MLBuzz22\\C...</td>\n",
       "      <td>attack</td>\n",
       "    </tr>\n",
       "    <tr>\n",
       "      <th>9</th>\n",
       "      <td>9</td>\n",
       "      <td>C:\\Development\\Code\\JupyterProjects\\MLBuzz22\\C...</td>\n",
       "      <td>blast</td>\n",
       "    </tr>\n",
       "  </tbody>\n",
       "</table>\n",
       "</div>"
      ],
      "text/plain": [
       "   Unnamed: 0                                               path  \\\n",
       "0           0  C:\\Development\\Code\\JupyterProjects\\MLBuzz22\\C...   \n",
       "1           1  C:\\Development\\Code\\JupyterProjects\\MLBuzz22\\C...   \n",
       "2           2  C:\\Development\\Code\\JupyterProjects\\MLBuzz22\\C...   \n",
       "3           3  C:\\Development\\Code\\JupyterProjects\\MLBuzz22\\C...   \n",
       "4           4  C:\\Development\\Code\\JupyterProjects\\MLBuzz22\\C...   \n",
       "5           5  C:\\Development\\Code\\JupyterProjects\\MLBuzz22\\C...   \n",
       "6           6  C:\\Development\\Code\\JupyterProjects\\MLBuzz22\\C...   \n",
       "7           7  C:\\Development\\Code\\JupyterProjects\\MLBuzz22\\C...   \n",
       "8           8  C:\\Development\\Code\\JupyterProjects\\MLBuzz22\\C...   \n",
       "9           9  C:\\Development\\Code\\JupyterProjects\\MLBuzz22\\C...   \n",
       "\n",
       "            category  \n",
       "0             arrest  \n",
       "1             attack  \n",
       "2              blast  \n",
       "3  deliberate damage  \n",
       "4             firing  \n",
       "5      road accident  \n",
       "6              theft  \n",
       "7             arrest  \n",
       "8             attack  \n",
       "9              blast  "
      ]
     },
     "execution_count": 3,
     "metadata": {},
     "output_type": "execute_result"
    }
   ],
   "source": [
    "# train_data_df = pd.read_csv('train.csv')\n",
    "train_data_df = pd.read_csv('sampled_50.csv')\n",
    "train_data_df.head(10)"
   ]
  },
  {
   "cell_type": "code",
   "execution_count": 4,
   "id": "580fa08c-e63e-4aad-a33c-ea340c71b3c1",
   "metadata": {},
   "outputs": [
    {
     "data": {
      "text/html": [
       "<div>\n",
       "<style scoped>\n",
       "    .dataframe tbody tr th:only-of-type {\n",
       "        vertical-align: middle;\n",
       "    }\n",
       "\n",
       "    .dataframe tbody tr th {\n",
       "        vertical-align: top;\n",
       "    }\n",
       "\n",
       "    .dataframe thead th {\n",
       "        text-align: right;\n",
       "    }\n",
       "</style>\n",
       "<table border=\"1\" class=\"dataframe\">\n",
       "  <thead>\n",
       "    <tr style=\"text-align: right;\">\n",
       "      <th></th>\n",
       "      <th>Unnamed: 0</th>\n",
       "      <th>path</th>\n",
       "      <th>category</th>\n",
       "    </tr>\n",
       "  </thead>\n",
       "  <tbody>\n",
       "    <tr>\n",
       "      <th>0</th>\n",
       "      <td>0</td>\n",
       "      <td>C:\\Development\\Code\\JupyterProjects\\MLBuzz22\\C...</td>\n",
       "      <td>arrest</td>\n",
       "    </tr>\n",
       "    <tr>\n",
       "      <th>1</th>\n",
       "      <td>1</td>\n",
       "      <td>C:\\Development\\Code\\JupyterProjects\\MLBuzz22\\C...</td>\n",
       "      <td>attack</td>\n",
       "    </tr>\n",
       "    <tr>\n",
       "      <th>2</th>\n",
       "      <td>2</td>\n",
       "      <td>C:\\Development\\Code\\JupyterProjects\\MLBuzz22\\C...</td>\n",
       "      <td>blast</td>\n",
       "    </tr>\n",
       "    <tr>\n",
       "      <th>3</th>\n",
       "      <td>3</td>\n",
       "      <td>C:\\Development\\Code\\JupyterProjects\\MLBuzz22\\C...</td>\n",
       "      <td>deliberate damage</td>\n",
       "    </tr>\n",
       "    <tr>\n",
       "      <th>4</th>\n",
       "      <td>4</td>\n",
       "      <td>C:\\Development\\Code\\JupyterProjects\\MLBuzz22\\C...</td>\n",
       "      <td>firing</td>\n",
       "    </tr>\n",
       "    <tr>\n",
       "      <th>5</th>\n",
       "      <td>5</td>\n",
       "      <td>C:\\Development\\Code\\JupyterProjects\\MLBuzz22\\C...</td>\n",
       "      <td>road accident</td>\n",
       "    </tr>\n",
       "    <tr>\n",
       "      <th>6</th>\n",
       "      <td>6</td>\n",
       "      <td>C:\\Development\\Code\\JupyterProjects\\MLBuzz22\\C...</td>\n",
       "      <td>theft</td>\n",
       "    </tr>\n",
       "    <tr>\n",
       "      <th>7</th>\n",
       "      <td>7</td>\n",
       "      <td>C:\\Development\\Code\\JupyterProjects\\MLBuzz22\\C...</td>\n",
       "      <td>arrest</td>\n",
       "    </tr>\n",
       "    <tr>\n",
       "      <th>8</th>\n",
       "      <td>8</td>\n",
       "      <td>C:\\Development\\Code\\JupyterProjects\\MLBuzz22\\C...</td>\n",
       "      <td>attack</td>\n",
       "    </tr>\n",
       "    <tr>\n",
       "      <th>9</th>\n",
       "      <td>9</td>\n",
       "      <td>C:\\Development\\Code\\JupyterProjects\\MLBuzz22\\C...</td>\n",
       "      <td>blast</td>\n",
       "    </tr>\n",
       "  </tbody>\n",
       "</table>\n",
       "</div>"
      ],
      "text/plain": [
       "   Unnamed: 0                                               path  \\\n",
       "0           0  C:\\Development\\Code\\JupyterProjects\\MLBuzz22\\C...   \n",
       "1           1  C:\\Development\\Code\\JupyterProjects\\MLBuzz22\\C...   \n",
       "2           2  C:\\Development\\Code\\JupyterProjects\\MLBuzz22\\C...   \n",
       "3           3  C:\\Development\\Code\\JupyterProjects\\MLBuzz22\\C...   \n",
       "4           4  C:\\Development\\Code\\JupyterProjects\\MLBuzz22\\C...   \n",
       "5           5  C:\\Development\\Code\\JupyterProjects\\MLBuzz22\\C...   \n",
       "6           6  C:\\Development\\Code\\JupyterProjects\\MLBuzz22\\C...   \n",
       "7           7  C:\\Development\\Code\\JupyterProjects\\MLBuzz22\\C...   \n",
       "8           8  C:\\Development\\Code\\JupyterProjects\\MLBuzz22\\C...   \n",
       "9           9  C:\\Development\\Code\\JupyterProjects\\MLBuzz22\\C...   \n",
       "\n",
       "            category  \n",
       "0             arrest  \n",
       "1             attack  \n",
       "2              blast  \n",
       "3  deliberate damage  \n",
       "4             firing  \n",
       "5      road accident  \n",
       "6              theft  \n",
       "7             arrest  \n",
       "8             attack  \n",
       "9              blast  "
      ]
     },
     "execution_count": 4,
     "metadata": {},
     "output_type": "execute_result"
    }
   ],
   "source": [
    "filter = ['arrest', 'attack', 'blast', 'deliberate damage', 'firing', 'road accident', 'theft']\n",
    "train_filtered_df = train_data_df[train_data_df['category'].isin(filter)]\n",
    "train_filtered_df.head(10)"
   ]
  },
  {
   "cell_type": "code",
   "execution_count": 5,
   "id": "4ca35154-a2a0-4fb6-87a8-54f6422ae763",
   "metadata": {},
   "outputs": [
    {
     "data": {
      "text/html": [
       "<div>\n",
       "<style scoped>\n",
       "    .dataframe tbody tr th:only-of-type {\n",
       "        vertical-align: middle;\n",
       "    }\n",
       "\n",
       "    .dataframe tbody tr th {\n",
       "        vertical-align: top;\n",
       "    }\n",
       "\n",
       "    .dataframe thead th {\n",
       "        text-align: right;\n",
       "    }\n",
       "</style>\n",
       "<table border=\"1\" class=\"dataframe\">\n",
       "  <thead>\n",
       "    <tr style=\"text-align: right;\">\n",
       "      <th></th>\n",
       "      <th>path</th>\n",
       "      <th>category</th>\n",
       "    </tr>\n",
       "  </thead>\n",
       "  <tbody>\n",
       "    <tr>\n",
       "      <th>0</th>\n",
       "      <td>C:\\Development\\Code\\JupyterProjects\\MLBuzz22\\C...</td>\n",
       "      <td>arrest</td>\n",
       "    </tr>\n",
       "    <tr>\n",
       "      <th>1</th>\n",
       "      <td>C:\\Development\\Code\\JupyterProjects\\MLBuzz22\\C...</td>\n",
       "      <td>attack</td>\n",
       "    </tr>\n",
       "    <tr>\n",
       "      <th>2</th>\n",
       "      <td>C:\\Development\\Code\\JupyterProjects\\MLBuzz22\\C...</td>\n",
       "      <td>blast</td>\n",
       "    </tr>\n",
       "    <tr>\n",
       "      <th>3</th>\n",
       "      <td>C:\\Development\\Code\\JupyterProjects\\MLBuzz22\\C...</td>\n",
       "      <td>deliberate damage</td>\n",
       "    </tr>\n",
       "    <tr>\n",
       "      <th>4</th>\n",
       "      <td>C:\\Development\\Code\\JupyterProjects\\MLBuzz22\\C...</td>\n",
       "      <td>firing</td>\n",
       "    </tr>\n",
       "    <tr>\n",
       "      <th>5</th>\n",
       "      <td>C:\\Development\\Code\\JupyterProjects\\MLBuzz22\\C...</td>\n",
       "      <td>road accident</td>\n",
       "    </tr>\n",
       "    <tr>\n",
       "      <th>6</th>\n",
       "      <td>C:\\Development\\Code\\JupyterProjects\\MLBuzz22\\C...</td>\n",
       "      <td>theft</td>\n",
       "    </tr>\n",
       "    <tr>\n",
       "      <th>7</th>\n",
       "      <td>C:\\Development\\Code\\JupyterProjects\\MLBuzz22\\C...</td>\n",
       "      <td>arrest</td>\n",
       "    </tr>\n",
       "    <tr>\n",
       "      <th>8</th>\n",
       "      <td>C:\\Development\\Code\\JupyterProjects\\MLBuzz22\\C...</td>\n",
       "      <td>attack</td>\n",
       "    </tr>\n",
       "    <tr>\n",
       "      <th>9</th>\n",
       "      <td>C:\\Development\\Code\\JupyterProjects\\MLBuzz22\\C...</td>\n",
       "      <td>blast</td>\n",
       "    </tr>\n",
       "  </tbody>\n",
       "</table>\n",
       "</div>"
      ],
      "text/plain": [
       "                                                path           category\n",
       "0  C:\\Development\\Code\\JupyterProjects\\MLBuzz22\\C...             arrest\n",
       "1  C:\\Development\\Code\\JupyterProjects\\MLBuzz22\\C...             attack\n",
       "2  C:\\Development\\Code\\JupyterProjects\\MLBuzz22\\C...              blast\n",
       "3  C:\\Development\\Code\\JupyterProjects\\MLBuzz22\\C...  deliberate damage\n",
       "4  C:\\Development\\Code\\JupyterProjects\\MLBuzz22\\C...             firing\n",
       "5  C:\\Development\\Code\\JupyterProjects\\MLBuzz22\\C...      road accident\n",
       "6  C:\\Development\\Code\\JupyterProjects\\MLBuzz22\\C...              theft\n",
       "7  C:\\Development\\Code\\JupyterProjects\\MLBuzz22\\C...             arrest\n",
       "8  C:\\Development\\Code\\JupyterProjects\\MLBuzz22\\C...             attack\n",
       "9  C:\\Development\\Code\\JupyterProjects\\MLBuzz22\\C...              blast"
      ]
     },
     "execution_count": 5,
     "metadata": {},
     "output_type": "execute_result"
    }
   ],
   "source": [
    "train_filtered_df.reset_index(drop=True, inplace=True)\n",
    "train_filtered_df.drop(columns='Unnamed: 0', inplace=True)\n",
    "train_filtered_df.head(10)"
   ]
  },
  {
   "cell_type": "code",
   "execution_count": 6,
   "id": "b88ae13a-394b-4ff2-9476-620643d54c38",
   "metadata": {},
   "outputs": [],
   "source": [
    "train_filtered_df.to_csv('train_filtered.csv')"
   ]
  },
  {
   "cell_type": "code",
   "execution_count": 7,
   "id": "31be201a-cc50-4fa7-9111-b7e9e424cd11",
   "metadata": {},
   "outputs": [],
   "source": [
    "from tensorflow.keras.preprocessing.image import load_img\n",
    "from natsort import natsorted\n",
    "\n",
    "def load_video(path):\n",
    "    frames = []\n",
    "    samples = natsorted(os.listdir(path))\n",
    "    # print(samples)\n",
    "    for sample in samples:\n",
    "        imgpath = os.fsencode(path +'\\\\'+ os.fsdecode(sample))\n",
    "        img = load_img(imgpath)\n",
    "        frames.append(np.asarray(img))\n",
    "    return (np.asarray(frames))"
   ]
  },
  {
   "cell_type": "code",
   "execution_count": 8,
   "id": "4124c8f9-5a54-4f2e-a031-4397e51547a1",
   "metadata": {},
   "outputs": [
    {
     "data": {
      "text/plain": [
       "(88, 240, 320, 3)"
      ]
     },
     "execution_count": 8,
     "metadata": {},
     "output_type": "execute_result"
    }
   ],
   "source": [
    "test_path = train_filtered_df['path'][0]\n",
    "vf = load_video(test_path)\n",
    "vf.shape"
   ]
  },
  {
   "cell_type": "code",
   "execution_count": 9,
   "id": "805e139c-e860-4385-8d0a-228ba0ca0050",
   "metadata": {},
   "outputs": [],
   "source": [
    "def build_feature_extractor():\n",
    "    feature_extractor = tf.keras.applications.InceptionV3(\n",
    "        weights=\"imagenet\",\n",
    "        include_top=False,\n",
    "        pooling=\"avg\",\n",
    "        input_shape=(IMG_Y_SIZE, IMG_X_SIZE, 3),\n",
    "    )\n",
    "    preprocess_input = tf.keras.applications.inception_v3.preprocess_input\n",
    "\n",
    "    inputs = tf.keras.Input((IMG_Y_SIZE, IMG_X_SIZE, 3))\n",
    "    preprocessed = preprocess_input(inputs)\n",
    "\n",
    "    outputs = feature_extractor(preprocessed)\n",
    "    return tf.keras.Model(inputs, outputs, name=\"feature_extractor\")\n",
    "\n",
    "\n",
    "feature_extractor = build_feature_extractor()"
   ]
  },
  {
   "cell_type": "code",
   "execution_count": 10,
   "id": "850808ca-6306-47d0-bde3-42bff28cb4fc",
   "metadata": {},
   "outputs": [
    {
     "name": "stdout",
     "output_type": "stream",
     "text": [
      "['arrest', 'attack', 'blast', 'deliberate damage', 'firing', 'road accident', 'theft']\n"
     ]
    }
   ],
   "source": [
    "label_processor = tf.keras.layers.StringLookup(\n",
    "    num_oov_indices=0, vocabulary=np.unique(train_filtered_df[\"category\"])\n",
    ")\n",
    "print(label_processor.get_vocabulary())"
   ]
  },
  {
   "cell_type": "code",
   "execution_count": 11,
   "id": "74894d22-46df-4df4-aeb4-60b29e8e69ed",
   "metadata": {},
   "outputs": [],
   "source": [
    "def prepare_all_videos(df):\n",
    "    num_samples = len(df)\n",
    "    video_paths = df[\"path\"].values.tolist()\n",
    "    labels = df[\"category\"].values\n",
    "    labels = label_processor(labels[..., None]).numpy()\n",
    "\n",
    "    # `frame_masks` and `frame_features` are what we will feed to our sequence model.\n",
    "    # `frame_masks` will contain a bunch of booleans denoting if a timestep is\n",
    "    # masked with padding or not.\n",
    "    frame_masks = np.zeros(shape=(num_samples, MAX_SEQ_LENGTH), dtype=\"bool\")\n",
    "    frame_features = np.zeros(\n",
    "        shape=(num_samples, MAX_SEQ_LENGTH, NUM_FEATURES), dtype=\"float32\"\n",
    "    )\n",
    "\n",
    "    # For each video.\n",
    "    for idx, path in enumerate(video_paths):\n",
    "        # Gather all its frames and add a batch dimension.\n",
    "        print(\"loading video from path:\", path)\n",
    "        frames = load_video(path)\n",
    "        frames = frames[None, ...]\n",
    "\n",
    "        # Initialize placeholders to store the masks and features of the current video.\n",
    "        temp_frame_mask = np.zeros(shape=(1, MAX_SEQ_LENGTH,), dtype=\"bool\")\n",
    "        temp_frame_features = np.zeros(\n",
    "            shape=(1, MAX_SEQ_LENGTH, NUM_FEATURES), dtype=\"float32\"\n",
    "        )\n",
    "\n",
    "        # Extract features from the frames of the current video.\n",
    "        for i, batch in enumerate(frames):\n",
    "            video_length = batch.shape[0]\n",
    "            length = min(MAX_SEQ_LENGTH, video_length)\n",
    "            for j in range(length):\n",
    "                temp_frame_features[i, j, :] = feature_extractor.predict(\n",
    "                    batch[None, j, :],\n",
    "                    verbose=0\n",
    "                )\n",
    "            temp_frame_mask[i, :length] = 1  # 1 = not masked, 0 = masked\n",
    "\n",
    "        frame_features[idx,] = temp_frame_features.squeeze()\n",
    "        frame_masks[idx,] = temp_frame_mask.squeeze()\n",
    "\n",
    "    return (frame_features, frame_masks), labels\n"
   ]
  },
  {
   "cell_type": "code",
   "execution_count": null,
   "id": "b0d48379-329a-45cd-9cb0-97432c03a399",
   "metadata": {
    "scrolled": true,
    "tags": []
   },
   "outputs": [],
   "source": [
    "# train_data, train_labels = prepare_all_videos(train_filtered_df)\n",
    "# test_data, test_labels = prepare_all_videos(test_df, \"test\")"
   ]
  },
  {
   "cell_type": "code",
   "execution_count": 15,
   "id": "717c409f-a0cd-44b4-9d85-28ca63bab95f",
   "metadata": {},
   "outputs": [
    {
     "name": "stdout",
     "output_type": "stream",
     "text": [
      "Frame features in train set: (350, 512, 2048)\n",
      "Frame masks in train set: (350, 512)\n"
     ]
    }
   ],
   "source": [
    "# print(f\"Frame features in train set: {train_data[0].shape}\")\n",
    "# print(f\"Frame masks in train set: {train_data[1].shape}\")\n",
    "# np.save('sample_50_features_train0.txt', train_data[0])\n",
    "# np.save('sample_50_features_train1.txt', train_data[1])"
   ]
  },
  {
   "cell_type": "code",
   "execution_count": 12,
   "id": "bb231d7e-9d4d-451f-b3f0-ce66f288a5d5",
   "metadata": {},
   "outputs": [
    {
     "name": "stdout",
     "output_type": "stream",
     "text": [
      "Frame features in train set: (350, 512, 2048)\n",
      "Frame masks in train set: (350, 512)\n"
     ]
    }
   ],
   "source": [
    "temp1 = np.load('sample_50_features_train0.txt.npy')\n",
    "temp2 = np.load('sample_50_features_train1.txt.npy')\n",
    "train_data = (temp1, temp2)\n",
    "print(f\"Frame features in train set: {train_data[0].shape}\")\n",
    "print(f\"Frame masks in train set: {train_data[1].shape}\")"
   ]
  },
  {
   "cell_type": "code",
   "execution_count": null,
   "id": "49e1a495-3694-419a-be45-d2796172b158",
   "metadata": {},
   "outputs": [],
   "source": [
    "#override labels\n",
    "labels = train_filtered_df['category'].values\n",
    "labels = label_processor(labels[..., None]).numpy()\n",
    "train_labels = labels\n",
    "print(labels, len(train_labels))"
   ]
  },
  {
   "cell_type": "code",
   "execution_count": null,
   "id": "43510f62-8dd4-41d3-9db8-ce7de44877b0",
   "metadata": {},
   "outputs": [],
   "source": [
    "#randomize extraction\n",
    "size = len(train_data[0])\n",
    "shuffle_idx = np.arange(size)\n",
    "np.random.shuffle(shuffle_idx)\n",
    "print(shuffle_idx)\n",
    "\n",
    "train_data_shuffled = ((train_data[0][shuffle_idx], train_data[1][shuffle_idx]))\n",
    "train_labels_shuffled = train_labels[shuffle_idx]\n",
    "print(train_data_shuffled)\n",
    "print(train_labels_shuffled)"
   ]
  },
  {
   "cell_type": "code",
   "execution_count": 15,
   "id": "800c2e90-1f54-41ec-b7e1-137f529b9641",
   "metadata": {},
   "outputs": [],
   "source": [
    "def get_sequence_model():\n",
    "    class_vocab = label_processor.get_vocabulary()\n",
    "\n",
    "    frame_features_input = tf.keras.Input((MAX_SEQ_LENGTH, NUM_FEATURES))\n",
    "    mask_input = tf.keras.Input((MAX_SEQ_LENGTH,), dtype=\"bool\")\n",
    "\n",
    "    # Refer to the following tutorial to understand the significance of using `mask`:\n",
    "    # https://keras.io/api/layers/recurrent_layers/gru/\n",
    "    x = tf.keras.layers.GRU(16, return_sequences=True)(\n",
    "        frame_features_input, mask=mask_input\n",
    "    )\n",
    "    x = tf.keras.layers.GRU(8)(x)\n",
    "    x = tf.keras.layers.Dropout(0.4)(x)\n",
    "    x = tf.keras.layers.Dense(8, activation=\"relu\")(x)\n",
    "    output = tf.keras.layers.Dense(len(class_vocab), activation=\"softmax\")(x)\n",
    "\n",
    "    rnn_model = tf.keras.Model([frame_features_input, mask_input], output)\n",
    "\n",
    "    rnn_model.compile(\n",
    "        loss=\"sparse_categorical_crossentropy\", optimizer=\"adam\", metrics=[\"accuracy\"]\n",
    "    )\n",
    "    return rnn_model"
   ]
  },
  {
   "cell_type": "code",
   "execution_count": 16,
   "id": "27e81e47-1af2-4b0f-b151-1ad157501447",
   "metadata": {},
   "outputs": [],
   "source": [
    "tf.keras.backend.clear_session()"
   ]
  },
  {
   "cell_type": "code",
   "execution_count": 17,
   "id": "87c9f395-4b80-43fc-95b9-247c5d47e001",
   "metadata": {},
   "outputs": [],
   "source": [
    "def run_experiment(start, end, loadmodel=False):\n",
    "    # filepath = \"C:\\Development\\Code\\JupyterProjects\\MLBuzz22\\video_classifier\"\n",
    "    # checkpoint = tf.keras.callbacks.ModelCheckpoint(\n",
    "    #     filepath, save_weights_only=True, save_best_only=True, verbose=1\n",
    "    # )\n",
    "    \n",
    "    if loadmodel:\n",
    "        #load model\n",
    "        seq_model = tf.keras.models.load_model('cnn_rnn_video_identifier')\n",
    "        print('Loaded model cnn_rnn_video_identifier')\n",
    "    else:\n",
    "        seq_model = get_sequence_model()\n",
    "        print('Generated model graph')\n",
    "        \n",
    "    \n",
    "    #partition to handle GPU memory\n",
    "    print(\"Training from \", start, \"to \", end)\n",
    "    train_data_part = (train_data[0][start:end], train_data[1][start:end])\n",
    "    train_labels_part = train_labels[start:end]\n",
    "    \n",
    "#     train_data_part2 = (train_data[0][101:200], train_data[1][101:200])\n",
    "#     train_labels_part2 = train_labels[101:200]\n",
    "    \n",
    "#     train_data_part3 = (train_data[0][201:300], train_data[1][201:300])\n",
    "#     train_labels_part3 = train_labels[201:300]\n",
    "    \n",
    "#     train_data_part4 = (train_data[0][301:349], train_data[1][301:349])\n",
    "#     train_labels_part4 = train_labels[301:349]\n",
    "\n",
    "    \n",
    "    history = seq_model.fit(\n",
    "        [train_data_part[0], train_data_part[1]],\n",
    "        train_labels_part,\n",
    "        validation_split=0.3,\n",
    "        epochs=EPOCHS,\n",
    "        # callbacks=[checkpoint],\n",
    "    )\n",
    "    \n",
    "#     history[1] = seq_model.fit(\n",
    "#         [train_data_part2[0], train_data_part2[1]],\n",
    "#         train_labels_part2,\n",
    "#         validation_split=0.3,\n",
    "#         epochs=EPOCHS,\n",
    "#         # callbacks=[checkpoint],\n",
    "#     )\n",
    "\n",
    "#     history[2] = seq_model.fit(\n",
    "#         [train_data_part3[0], train_data_part3[1]],\n",
    "#         train_labels_part3,\n",
    "#         validation_split=0.3,\n",
    "#         epochs=EPOCHS,\n",
    "#         # callbacks=[checkpoint],\n",
    "#     )\n",
    "        \n",
    "#     history[3] = seq_model.fit(\n",
    "#         [train_data_part4[0], train_data_part4[1]],\n",
    "#         train_labels_part4,\n",
    "#         validation_split=0.3,\n",
    "#         epochs=EPOCHS,\n",
    "#         # callbacks=[checkpoint],\n",
    "#     )\n",
    "    # seq_model.load_weights(filepath)\n",
    "    # _, accuracy = seq_model.evaluate([test_data[0], test_data[1]], test_labels)\n",
    "    # print(f\"Test accuracy: {round(accuracy * 100, 2)}%\")\n",
    "    \n",
    "    seq_model.save('cnn_rnn_video_identifier')\n",
    "    print(\"Saved model cnn_rnn_video_identifier\")\n",
    "\n",
    "    return history, seq_model"
   ]
  },
  {
   "cell_type": "code",
   "execution_count": 18,
   "id": "1ac73cbd-1dd4-43d7-8e36-c044ec5b7da3",
   "metadata": {
    "scrolled": true,
    "tags": []
   },
   "outputs": [],
   "source": [
    "history = []\n",
    "# temp, sequence_model = run_experiment(0, 100)\n",
    "# history.append(temp)"
   ]
  },
  {
   "cell_type": "code",
   "execution_count": null,
   "id": "e47a1840-7deb-4f63-879e-862641250850",
   "metadata": {
    "scrolled": true,
    "tags": []
   },
   "outputs": [],
   "source": [
    "\n",
    "temp, sequence_model = run_experiment(0, 100, loadmodel = True)\n",
    "history.append(temp)\n",
    "temp, sequence_model = run_experiment(101, 200, loadmodel = True)\n",
    "history.append(temp)\n",
    "temp, sequence_model = run_experiment(201, 300, loadmodel = True)\n",
    "history.append(temp)\n",
    "temp, sequence_model = run_experiment(300, 349, loadmodel = True)\n",
    "history.append(temp)"
   ]
  },
  {
   "cell_type": "code",
   "execution_count": null,
   "id": "d2c949bd-9d68-4774-a69e-fc80435a5201",
   "metadata": {},
   "outputs": [],
   "source": [
    "%matplotlib inline\n",
    "import matplotlib,pyplot as plt\n",
    "\n",
    "print(history.history.keys())\n",
    "\n",
    "acc = history.history['accuracy']\n",
    "val_acc = history.history['val_accuracy']\n",
    "loss = history.history['loss']\n",
    "val_loss = history.history['val_loss']\n",
    "\n",
    "epochs = range(1, len(acc)+1)\n",
    "\n",
    "plt.plot(epochs, acc, 'bo', label='Training accuracy')\n",
    "plt.plot(epochs, val_acc, 'b', label='Validation accuracy')\n",
    "plt.title('Training and validation accuracy')\n",
    "plt.legend()\n",
    "\n",
    "plt.figure()\n",
    "plt.plot(epochs, loss, 'bo', label='Training loss')\n",
    "plt.plot(epochs, val_loss, 'b', label='Validation loss')\n",
    "plt.title('Training and validation loss')\n",
    "plt.legend()\n",
    "\n",
    "plt.show()"
   ]
  },
  {
   "cell_type": "code",
   "execution_count": 23,
   "id": "0c303146-86cb-4580-bdec-172c4eab3e77",
   "metadata": {},
   "outputs": [
    {
     "name": "stdout",
     "output_type": "stream",
     "text": [
      "Frame features in train set: (350, 512, 2048)\n",
      "Frame masks in train set: (350, 512)\n"
     ]
    }
   ],
   "source": [
    "print(f\"Frame features in train set: {train_data[0].shape}\")\n",
    "print(f\"Frame masks in train set: {train_data[1].shape}\")"
   ]
  },
  {
   "cell_type": "code",
   "execution_count": null,
   "id": "991426bc-e7f8-4df1-95e4-eb12a85000df",
   "metadata": {},
   "outputs": [],
   "source": [
    "seq_model = tf.keras.models.load_model('cnn_rnn_video_identifier')"
   ]
  },
  {
   "cell_type": "code",
   "execution_count": 63,
   "id": "5c3fad58-c703-415a-b1d4-51f8a80388f6",
   "metadata": {},
   "outputs": [
    {
     "name": "stdout",
     "output_type": "stream",
     "text": [
      "1/1 [==============================] - 0s 116ms/step\n",
      "---------------------------------\n",
      " arrest: 97.87%\n",
      " theft:  1.34%\n",
      " attack:  0.43%\n",
      " blast:  0.32%\n",
      " road accident:  0.02%\n",
      " firing:  0.01%\n",
      " deliberate damage:  0.01%\n",
      "---------------------------------\n",
      " attack: 96.05%\n",
      " theft:  3.10%\n",
      " firing:  0.49%\n",
      " arrest:  0.30%\n",
      " blast:  0.05%\n",
      " road accident:  0.01%\n",
      " deliberate damage:  0.00%\n",
      "---------------------------------\n",
      " deliberate damage: 36.23%\n",
      " firing: 24.16%\n",
      " blast: 18.39%\n",
      " attack:  8.74%\n",
      " road accident:  6.48%\n",
      " arrest:  3.44%\n",
      " theft:  2.55%\n",
      "---------------------------------\n",
      " deliberate damage: 94.89%\n",
      " road accident:  3.01%\n",
      " blast:  1.57%\n",
      " firing:  0.44%\n",
      " arrest:  0.07%\n",
      " attack:  0.01%\n",
      " theft:  0.01%\n",
      "---------------------------------\n",
      " firing: 97.62%\n",
      " deliberate damage:  1.02%\n",
      " road accident:  0.99%\n",
      " theft:  0.31%\n",
      " attack:  0.04%\n",
      " blast:  0.01%\n",
      " arrest:  0.01%\n"
     ]
    }
   ],
   "source": [
    "class_vocab = label_processor.get_vocabulary()\n",
    "results = seq_model.predict([train_data[0][210:215], train_data[1][210:215]])\n",
    "# print(results)\n",
    "for result in results:\n",
    "    print(\"---------------------------------\")\n",
    "    for i in np.argsort(result)[::-1]:\n",
    "        print(f\" {class_vocab[i]}: {result[i] * 100:5.2f}%\")"
   ]
  },
  {
   "cell_type": "code",
   "execution_count": 28,
   "id": "f49ed8dd-6ebd-4d4a-b930-0ba47f7bdadc",
   "metadata": {},
   "outputs": [
    {
     "ename": "TypeError",
     "evalue": "drop() got an unexpected keyword argument 'inpace'",
     "output_type": "error",
     "traceback": [
      "\u001b[1;31m---------------------------------------------------------------------------\u001b[0m",
      "\u001b[1;31mTypeError\u001b[0m                                 Traceback (most recent call last)",
      "Input \u001b[1;32mIn [28]\u001b[0m, in \u001b[0;36m<cell line: 2>\u001b[1;34m()\u001b[0m\n\u001b[0;32m      1\u001b[0m test_data_df \u001b[38;5;241m=\u001b[39m pd\u001b[38;5;241m.\u001b[39mread_csv(\u001b[38;5;124m'\u001b[39m\u001b[38;5;124mtest.csv\u001b[39m\u001b[38;5;124m'\u001b[39m, index_col\u001b[38;5;241m=\u001b[39m\u001b[38;5;28;01mFalse\u001b[39;00m)\n\u001b[1;32m----> 2\u001b[0m \u001b[43mtest_data_df\u001b[49m\u001b[38;5;241;43m.\u001b[39;49m\u001b[43mdrop\u001b[49m\u001b[43m(\u001b[49m\u001b[43mcolumns\u001b[49m\u001b[38;5;241;43m=\u001b[39;49m\u001b[38;5;124;43m'\u001b[39;49m\u001b[38;5;124;43mUnnames: 0\u001b[39;49m\u001b[38;5;124;43m'\u001b[39;49m\u001b[43m,\u001b[49m\u001b[43m \u001b[49m\u001b[43minpace\u001b[49m\u001b[38;5;241;43m=\u001b[39;49m\u001b[38;5;28;43;01mTrue\u001b[39;49;00m\u001b[43m)\u001b[49m\n\u001b[0;32m      3\u001b[0m test_data_df\u001b[38;5;241m.\u001b[39mhead()\n",
      "File \u001b[1;32m~\\miniconda3\\envs\\mlai_tf\\lib\\site-packages\\pandas\\util\\_decorators.py:311\u001b[0m, in \u001b[0;36mdeprecate_nonkeyword_arguments.<locals>.decorate.<locals>.wrapper\u001b[1;34m(*args, **kwargs)\u001b[0m\n\u001b[0;32m    305\u001b[0m \u001b[38;5;28;01mif\u001b[39;00m \u001b[38;5;28mlen\u001b[39m(args) \u001b[38;5;241m>\u001b[39m num_allow_args:\n\u001b[0;32m    306\u001b[0m     warnings\u001b[38;5;241m.\u001b[39mwarn(\n\u001b[0;32m    307\u001b[0m         msg\u001b[38;5;241m.\u001b[39mformat(arguments\u001b[38;5;241m=\u001b[39marguments),\n\u001b[0;32m    308\u001b[0m         \u001b[38;5;167;01mFutureWarning\u001b[39;00m,\n\u001b[0;32m    309\u001b[0m         stacklevel\u001b[38;5;241m=\u001b[39mstacklevel,\n\u001b[0;32m    310\u001b[0m     )\n\u001b[1;32m--> 311\u001b[0m \u001b[38;5;28;01mreturn\u001b[39;00m func(\u001b[38;5;241m*\u001b[39margs, \u001b[38;5;241m*\u001b[39m\u001b[38;5;241m*\u001b[39mkwargs)\n",
      "\u001b[1;31mTypeError\u001b[0m: drop() got an unexpected keyword argument 'inpace'"
     ]
    }
   ],
   "source": [
    "test_data_df = pd.read_csv('test.csv', index_col=False)\n",
    "test_data_df.drop(columns='Unnames: 0', inpace=True)\n",
    "test_data_df.head()"
   ]
  },
  {
   "cell_type": "code",
   "execution_count": null,
   "id": "7d45b56a-551d-4889-8645-f388d41da6a7",
   "metadata": {},
   "outputs": [],
   "source": [
    "sample_test_data_df = test_data_df[:25]"
   ]
  },
  {
   "cell_type": "code",
   "execution_count": null,
   "id": "0dac6e42-7f5c-400a-8d49-fc4e6ced664e",
   "metadata": {},
   "outputs": [],
   "source": [
    "def prepare_all_test_videos(df):\n",
    "    num_samples = len(df)\n",
    "    video_paths = df[\"path\"].values.tolist()\n",
    "    # labels = df[\"category\"].values\n",
    "    # labels = label_processor(labels[..., None]).numpy()\n",
    "\n",
    "    # `frame_masks` and `frame_features` are what we will feed to our sequence model.\n",
    "    # `frame_masks` will contain a bunch of booleans denoting if a timestep is\n",
    "    # masked with padding or not.\n",
    "    frame_masks = np.zeros(shape=(num_samples, MAX_SEQ_LENGTH), dtype=\"bool\")\n",
    "    frame_features = np.zeros(\n",
    "        shape=(num_samples, MAX_SEQ_LENGTH, NUM_FEATURES), dtype=\"float32\"\n",
    "    )\n",
    "\n",
    "    # For each video.\n",
    "    for idx, path in enumerate(video_paths):\n",
    "        # Gather all its frames and add a batch dimension.\n",
    "        print(\"loading video from path:\", path)\n",
    "        frames = load_video(os.path.join(path))\n",
    "        frames = frames[None, ...]\n",
    "\n",
    "        # Initialize placeholders to store the masks and features of the current video.\n",
    "        temp_frame_mask = np.zeros(shape=(1, MAX_SEQ_LENGTH,), dtype=\"bool\")\n",
    "        temp_frame_features = np.zeros(\n",
    "            shape=(1, MAX_SEQ_LENGTH, NUM_FEATURES), dtype=\"float32\"\n",
    "        )\n",
    "\n",
    "        # Extract features from the frames of the current video.\n",
    "        for i, batch in enumerate(frames):\n",
    "            video_length = batch.shape[0]\n",
    "            length = min(MAX_SEQ_LENGTH, video_length)\n",
    "            for j in range(length):\n",
    "                temp_frame_features[i, j, :] = feature_extractor.predict(\n",
    "                    batch[None, j, :]\n",
    "                )\n",
    "            temp_frame_mask[i, :length] = 1  # 1 = not masked, 0 = masked\n",
    "\n",
    "        frame_features[idx,] = temp_frame_features.squeeze()\n",
    "        frame_masks[idx,] = temp_frame_mask.squeeze()\n",
    "\n",
    "    return (frame_features, frame_masks)\n"
   ]
  },
  {
   "cell_type": "code",
   "execution_count": null,
   "id": "0e66aef1-01ad-4169-acb7-79c1222e2e17",
   "metadata": {},
   "outputs": [],
   "source": [
    "test_data = prepare_all_test_videos(sample_test_data_df)"
   ]
  },
  {
   "cell_type": "code",
   "execution_count": null,
   "id": "065e521c-d766-436e-ad0c-414e6d8636d7",
   "metadata": {},
   "outputs": [],
   "source": [
    "print(f\"Frame features in train set: {test_data[0].shape}\")\n",
    "print(f\"Frame masks in train set: {test_data[1].shape}\")"
   ]
  },
  {
   "cell_type": "code",
   "execution_count": null,
   "id": "09619854-7de6-4742-8902-a4589c3fa677",
   "metadata": {},
   "outputs": [],
   "source": [
    "class_vocab = label_processor.get_vocabulary()\n",
    "\n",
    "for in in range(len(test_data[0]):\n",
    "    print(\"result[\", i, \"]\")\n",
    "    result = sequence_model.predict([test_data[0], test_data[1]])[i]\n",
    "    for i in np.argsort(result)[::-1]:\n",
    "        print(f\" {class_vocab[i]}: {result[i] * 100:5.2f}%\")"
   ]
  }
 ],
 "metadata": {
  "kernelspec": {
   "display_name": "Python 3 (ipykernel)",
   "language": "python",
   "name": "python3"
  },
  "language_info": {
   "codemirror_mode": {
    "name": "ipython",
    "version": 3
   },
   "file_extension": ".py",
   "mimetype": "text/x-python",
   "name": "python",
   "nbconvert_exporter": "python",
   "pygments_lexer": "ipython3",
   "version": "3.9.13"
  }
 },
 "nbformat": 4,
 "nbformat_minor": 5
}
